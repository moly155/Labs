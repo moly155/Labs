{
 "cells": [
  {
   "attachments": {},
   "cell_type": "markdown",
   "metadata": {},
   "source": [
    "# Challenge 1"
   ]
  },
  {
   "cell_type": "code",
   "execution_count": null,
   "metadata": {},
   "outputs": [],
   "source": [
    "print('Welcome to this calculator!')\n",
    "print('It can add and subtract whole numbers from zero to five')\n",
    "a = input('Please choose your first number (zero to five): ')\n",
    "b = input('What do you want to do? plus or minus: ')\n",
    "c = input('Please choose your second number (zero to five): ')"
   ]
  },
  {
   "cell_type": "code",
   "execution_count": 31,
   "metadata": {},
   "outputs": [],
   "source": [
    "dict = {'zero': 0, 'one': 1, 'two': 2, 'three': 3, 'four':4 , 'five': 5, 'six': 6, 'seven': 7, 'eight': 8, 'nine': 9, 'ten':10 }"
   ]
  },
  {
   "cell_type": "code",
   "execution_count": 36,
   "metadata": {},
   "outputs": [
    {
     "name": "stdout",
     "output_type": "stream",
     "text": [
      "four plus five equals nine\n"
     ]
    }
   ],
   "source": [
    "# We ask for two numbers as strings\n",
    "\n",
    "def enter_number():\n",
    "    variables = [str(input('Enter a number between 0 and 5 as a string: ')) for number in range(2)]\n",
    "    return variables\n",
    "\n",
    "variables = enter_number()\n",
    "\n",
    "# we turn the strings into integers\n",
    "\n",
    "def turn_string_to_integer(variables):\n",
    "    var_num = []\n",
    "    for string in variables:\n",
    "       var_num.append(int(dict[string]))\n",
    "    return var_num\n",
    "\n",
    "var_num = turn_string_to_integer(variables)   \n",
    "var_num\n",
    "\n",
    "# we ask which operation the user wans to do \n",
    "\n",
    "def enter_operation():\n",
    "    operation = input('Which operation do you want to do (plus or minus?): ')\n",
    "    return operation \n",
    "\n",
    "operation = enter_operation()\n",
    "\n",
    "# we perform the operation \n",
    "\n",
    "def calculation(var_num, operation):\n",
    "    result = 0\n",
    "    if operation == 'plus':\n",
    "        result += sum(var_num)\n",
    "    else:\n",
    "        result += (var_num[0]-var_num[1])\n",
    "    return result\n",
    "\n",
    "result = calculation(var_num, operation)\n",
    "result\n",
    "\n",
    "# we print the result \n",
    "\n",
    "def printing(variables, operation, result):\n",
    "    inv_dict = {v: k for k, v in dict.items()}\n",
    "    if result >= 0:\n",
    "        print(f'{variables[0]} {operation} {variables[1]} equals {inv_dict[result]}')\n",
    "    else:\n",
    "        print(f'{variables[0]} {operation} {variables[1]} equals minus {inv_dict[abs(result)]}')\n",
    "\n",
    "\n",
    "printing(variables, operation, result)\n"
   ]
  },
  {
   "attachments": {},
   "cell_type": "markdown",
   "metadata": {},
   "source": [
    "# Challenge 2"
   ]
  },
  {
   "cell_type": "code",
   "execution_count": 38,
   "metadata": {},
   "outputs": [],
   "source": [
    "import random \n",
    "import string"
   ]
  },
  {
   "cell_type": "code",
   "execution_count": 41,
   "metadata": {},
   "outputs": [
    {
     "name": "stdout",
     "output_type": "stream",
     "text": [
      "1\n",
      "1g\n",
      "1gs\n",
      "1gsr\n",
      "a\n",
      "ah\n",
      "ahn\n",
      "ahnt\n",
      "['1gsr', 'ahnt']\n"
     ]
    }
   ],
   "source": [
    "import random\n",
    "\n",
    "def RandomStringGenerator(l=12, a = 'abcdefghijklmnoprstuvwxyz0123456789')\n",
    "    s = ''.join(random.choice(a) for i in range(l))\n",
    "    return s\n",
    "\n",
    "import sys\n",
    "\n",
    "def BatchStringGenerator(n, a=8, b=12):\n",
    "    if a > b:\n",
    "        sys.exit('Incorrect min and max string lengths. Try again.')\n",
    "\n",
    "    if a < b:\n",
    "        r = [RandomStringGenerator(random.choice(range(a,b))) for i in range(n)]\n",
    "\n",
    "    if a == b:\n",
    "        r = [RandomStringGenerator(a) for i in range(n)]\n",
    "    return r\n",
    "\n",
    "\n",
    "print(BatchStringGenerator(int(n), int(a), int(b)))\n",
    "\n"
   ]
  },
  {
   "cell_type": "code",
   "execution_count": 3,
   "metadata": {},
   "outputs": [
    {
     "data": {
      "text/plain": [
       "['m4cdh', 'ggv5s', '1kvl6', '5ykjx', 'bsvsa']"
      ]
     },
     "execution_count": 3,
     "metadata": {},
     "output_type": "execute_result"
    }
   ],
   "source": [
    "# I can put the functions in a python file and import them \n",
    "\n",
    "import functions as fc\n",
    "\n",
    "fc.BatchStringGenerator(5,5,5)"
   ]
  },
  {
   "attachments": {},
   "cell_type": "markdown",
   "metadata": {},
   "source": [
    "# falta challenge 3"
   ]
  },
  {
   "cell_type": "code",
   "execution_count": null,
   "metadata": {},
   "outputs": [],
   "source": [
    "# utilitzo black formatter \n",
    "\n",
    "a = [\n",
    "    (\"dfghjk\", \"dfghjkl\", \"dfghjkl\"),\n",
    "    (\"dfghjk\", \"dfghjkl\", \"dfghjkl\"),\n",
    "    (\"dfghjk\", \"dfghjkl\", \"dfghjkl\"),\n",
    "]"
   ]
  },
  {
   "cell_type": "markdown",
   "metadata": {},
   "source": []
  },
  {
   "cell_type": "code",
   "execution_count": null,
   "metadata": {},
   "outputs": [],
   "source": []
  },
  {
   "cell_type": "code",
   "execution_count": null,
   "metadata": {},
   "outputs": [],
   "source": []
  },
  {
   "cell_type": "code",
   "execution_count": null,
   "metadata": {},
   "outputs": [],
   "source": []
  }
 ],
 "metadata": {
  "kernelspec": {
   "display_name": "base",
   "language": "python",
   "name": "python3"
  },
  "language_info": {
   "codemirror_mode": {
    "name": "ipython",
    "version": 3
   },
   "file_extension": ".py",
   "mimetype": "text/x-python",
   "name": "python",
   "nbconvert_exporter": "python",
   "pygments_lexer": "ipython3",
   "version": "3.8.8"
  },
  "orig_nbformat": 4
 },
 "nbformat": 4,
 "nbformat_minor": 2
}
